{
  "nbformat": 4,
  "nbformat_minor": 0,
  "metadata": {
    "colab": {
      "provenance": []
    },
    "kernelspec": {
      "name": "python3",
      "display_name": "Python 3"
    },
    "language_info": {
      "name": "python"
    }
  },
  "cells": [
    {
      "cell_type": "code",
      "execution_count": null,
      "metadata": {
        "id": "Nsr2j9vE3STt"
      },
      "outputs": [],
      "source": [
        "import pandas as pd\n",
        "import seaborn as sns\n",
        "import matplotlib.pyplot as plt\n",
        "import graphviz\n",
        "from sklearn.model_selection import train_test_split\n",
        "from sklearn.datasets import load_breast_cancer\n",
        "from sklearn.tree import DecisionTreeClassifier\n",
        "from sklearn.ensemble import RandomForestClassifier\n",
        "from sklearn.semi_supervised import SelfTrainingClassifier\n",
        "from sklearn.model_selection import train_test_split\n",
        "from sklearn.metrics import accuracy_score\n",
        "from sklearn.tree import export_graphviz\n",
        "from sklearn.tree import plot_tree"
      ]
    },
    {
      "cell_type": "code",
      "source": [
        "# Load dataset dari sklearn\n",
        "data = load_breast_cancer()\n",
        "\n",
        "# Mengubah bentuk data ke datafame\n",
        "df = pd.DataFrame(data.data, columns=data.feature_names)\n",
        "\n",
        "# Menambahkan kolom 'target' ke df\n",
        "df['target'] = pd.Series(data.target)"
      ],
      "metadata": {
        "id": "Sca5MYFd3axN"
      },
      "execution_count": null,
      "outputs": []
    },
    {
      "cell_type": "code",
      "source": [
        "df"
      ],
      "metadata": {
        "id": "Ngc4Dg3D3o_C"
      },
      "execution_count": null,
      "outputs": []
    },
    {
      "cell_type": "code",
      "source": [
        "#split df untuk train dan test\n",
        "x_train, x_test, y_train, y_test = train_test_split(df[data.feature_names], df['target'],test_size=0.2, random_state=42, shuffle=False)"
      ],
      "metadata": {
        "id": "p_CCaAyD4qNL"
      },
      "execution_count": null,
      "outputs": []
    },
    {
      "cell_type": "code",
      "source": [
        "x_train"
      ],
      "metadata": {
        "id": "3zAOJeLe-p9q"
      },
      "execution_count": null,
      "outputs": []
    },
    {
      "cell_type": "code",
      "source": [
        "# Train data menggunakan Decision Tree\n",
        "dt = DecisionTreeClassifier(random_state=0)\n",
        "dt.fit(x_train, y_train)\n",
        "\n",
        "# Test hasil model Decision Tree\n",
        "dt_acc = accuracy_score(y_test, dt.predict(x_test))\n",
        "print(\"Decision Tree accuracy:\", dt_acc)"
      ],
      "metadata": {
        "colab": {
          "base_uri": "https://localhost:8080/"
        },
        "id": "c2lFVokv6k15",
        "outputId": "3e3080e4-3f56-4096-a817-f3c27902c03c"
      },
      "execution_count": null,
      "outputs": [
        {
          "output_type": "stream",
          "name": "stdout",
          "text": [
            "Decision Tree accuracy: 0.8421052631578947\n"
          ]
        }
      ]
    },
    {
      "cell_type": "code",
      "source": [
        "#Menampilkan model decision tree yang telah ditrain sebelumnya\n",
        "d_tree = export_graphviz(dt, out_file=None, \n",
        "                           feature_names=data.feature_names,  \n",
        "                           class_names=data.target_names,  \n",
        "                           filled=True, rounded=True,  \n",
        "                           special_characters=True)\n",
        "\n",
        "graph = graphviz.Source(d_tree)\n",
        "graph"
      ],
      "metadata": {
        "id": "jGKcA-_w96NT"
      },
      "execution_count": null,
      "outputs": []
    },
    {
      "cell_type": "code",
      "source": [
        "# Train data menggunakan Random Forest\n",
        "rf = RandomForestClassifier(random_state=0)\n",
        "rf.fit(x_train, y_train)\n",
        "\n",
        "# Evaluasi hasil model Random Forest\n",
        "rf_acc = accuracy_score(y_test, rf.predict(x_test))\n",
        "print(\"Random Forest accuracy:\", rf_acc)"
      ],
      "metadata": {
        "colab": {
          "base_uri": "https://localhost:8080/"
        },
        "id": "6nkWGInz-JKY",
        "outputId": "d218d2b1-a2c3-4166-cc06-edf85cd9f509"
      },
      "execution_count": null,
      "outputs": [
        {
          "output_type": "stream",
          "name": "stdout",
          "text": [
            "Random Forest accuracy: 0.9736842105263158\n"
          ]
        }
      ]
    },
    {
      "cell_type": "code",
      "source": [
        "#Menampilkan Estimator pertama pada Random Forest\n",
        "fig, axes = plt.subplots(figsize=(12,8))\n",
        "plot_tree(rf.estimators_[0], feature_names=data.feature_names, class_names=data.target_names, filled=True, ax=axes)\n",
        "plt.show()"
      ],
      "metadata": {
        "id": "wqUPi461_Qc4"
      },
      "execution_count": null,
      "outputs": []
    },
    {
      "cell_type": "code",
      "source": [
        "# Train data menggunakan Self-Training\n",
        "st = SelfTrainingClassifier(DecisionTreeClassifier(random_state=0))\n",
        "st.fit(x_train, y_train)\n",
        "\n",
        "# Evaluasi hasil model Self-Training\n",
        "st_acc = accuracy_score(y_test, st.predict(x_test))\n",
        "print(\"Self-Training accuracy:\", st_acc)"
      ],
      "metadata": {
        "colab": {
          "base_uri": "https://localhost:8080/"
        },
        "id": "8cx3O3vr8Ewj",
        "outputId": "f4f5538b-22eb-4e46-9c54-c42cf66fc233"
      },
      "execution_count": null,
      "outputs": [
        {
          "output_type": "stream",
          "name": "stdout",
          "text": [
            "Self-Training accuracy: 0.8421052631578947\n"
          ]
        },
        {
          "output_type": "stream",
          "name": "stderr",
          "text": [
            "/usr/local/lib/python3.9/dist-packages/sklearn/semi_supervised/_self_training.py:212: UserWarning: y contains no unlabeled samples\n",
            "  warnings.warn(\"y contains no unlabeled samples\", UserWarning)\n"
          ]
        }
      ]
    },
    {
      "cell_type": "code",
      "source": [
        "print(y_test)\n",
        "print(st.predict(x_test))"
      ],
      "metadata": {
        "id": "z6WCOhn0ABrJ"
      },
      "execution_count": null,
      "outputs": []
    },
    {
      "cell_type": "code",
      "source": [
        "#Komparasi tingkat keakuratan masing-masing model\n",
        "plt.figure(figsize=(8, 6))\n",
        "sns.barplot(x=['Decision Tree', 'Random Forest', 'Self-Training'], y=[dt_acc, rf_acc, st_acc])\n",
        "plt.ylim(0.8, 1.0)\n",
        "plt.ylabel(\"Accuracy\")\n",
        "plt.show()"
      ],
      "metadata": {
        "id": "w7PKjrgcD9M2"
      },
      "execution_count": null,
      "outputs": []
    }
  ]
}